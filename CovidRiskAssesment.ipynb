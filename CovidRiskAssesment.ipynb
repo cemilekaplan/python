{
  "nbformat": 4,
  "nbformat_minor": 0,
  "metadata": {
    "colab": {
      "name": "CovidRiskAssesment.ipynb",
      "provenance": [],
      "collapsed_sections": [],
      "authorship_tag": "ABX9TyNGZluU8gZ+J8fuBs1Lypb4",
      "include_colab_link": true
    },
    "kernelspec": {
      "name": "python3",
      "display_name": "Python 3"
    },
    "language_info": {
      "name": "python"
    }
  },
  "cells": [
    {
      "cell_type": "markdown",
      "metadata": {
        "id": "view-in-github",
        "colab_type": "text"
      },
      "source": [
        "<a href=\"https://colab.research.google.com/github/cemilekaplan/python/blob/main/CovidRiskAssesment.ipynb\" target=\"_parent\"><img src=\"https://colab.research.google.com/assets/colab-badge.svg\" alt=\"Open In Colab\"/></a>"
      ]
    },
    {
      "cell_type": "code",
      "metadata": {
        "colab": {
          "base_uri": "https://localhost:8080/"
        },
        "id": "Ip5D4qGfWPR0",
        "outputId": "075d0855-1fb3-4bc2-d312-a4fc5f0db220"
      },
      "source": [
        "age = input(\"Are you a cigarette addict older than 75 years old? \").upper()\n",
        "chronic = input(\"Do you have a severe chronic disease? \").upper()\n",
        "immune = input(\"Is your immune system too weak? \").upper()\n",
        "\n",
        "if age.startswith(\"Y\")  or chronic.startswith(\"Y\") or immune.startswith(\"Y\") :\n",
        "  print(\"you are in risky group\")\n",
        "else:\n",
        "  print(\"You are not in risky group\") \n"
      ],
      "execution_count": 1,
      "outputs": [
        {
          "output_type": "stream",
          "name": "stdout",
          "text": [
            "Are you a cigarette addict older than 75 years old? yes\n",
            "Do you have a severe chronic disease? no\n",
            "Is your immune system too weak? no\n",
            "you are in risky group\n"
          ]
        }
      ]
    }
  ]
}